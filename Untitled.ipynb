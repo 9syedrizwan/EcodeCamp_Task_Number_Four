{
 "cells": [
  {
   "cell_type": "code",
   "execution_count": 12,
   "id": "c5c3e03f-c570-4f69-9647-bb59addd8813",
   "metadata": {},
   "outputs": [
    {
     "name": "stdout",
     "output_type": "stream",
     "text": [
      "Requirement already satisfied: pandas in c:\\users\\user\\anaconda3\\lib\\site-packages (2.2.2)\n",
      "Requirement already satisfied: openpyxl in c:\\users\\user\\anaconda3\\lib\\site-packages (3.1.2)\n",
      "Requirement already satisfied: numpy>=1.26.0 in c:\\users\\user\\anaconda3\\lib\\site-packages (from pandas) (1.26.4)\n",
      "Requirement already satisfied: python-dateutil>=2.8.2 in c:\\users\\user\\appdata\\roaming\\python\\python312\\site-packages (from pandas) (2.9.0.post0)\n",
      "Requirement already satisfied: pytz>=2020.1 in c:\\users\\user\\anaconda3\\lib\\site-packages (from pandas) (2024.1)\n",
      "Requirement already satisfied: tzdata>=2022.7 in c:\\users\\user\\anaconda3\\lib\\site-packages (from pandas) (2023.3)\n",
      "Requirement already satisfied: et-xmlfile in c:\\users\\user\\anaconda3\\lib\\site-packages (from openpyxl) (1.1.0)\n",
      "Requirement already satisfied: six>=1.5 in c:\\users\\user\\appdata\\roaming\\python\\python312\\site-packages (from python-dateutil>=2.8.2->pandas) (1.16.0)\n"
     ]
    }
   ],
   "source": [
    "!pip install pandas openpyxl\n",
    "\n",
    "import pandas as pd\n",
    "from datetime import datetime"
   ]
  },
  {
   "cell_type": "code",
   "execution_count": 13,
   "id": "e7f1e4f9-0e0e-4618-ac52-ab16fdaec417",
   "metadata": {},
   "outputs": [
    {
     "name": "stdout",
     "output_type": "stream",
     "text": [
      "     ID  Year_Birth   Education Marital_Status   Income  Kidhome  Teenhome  \\\n",
      "0  5524        1957  Graduation         Single  58138.0        0         0   \n",
      "1  2174        1954  Graduation         Single  46344.0        1         1   \n",
      "2  4141        1965  Graduation       Together  71613.0        0         0   \n",
      "3  6182        1984  Graduation       Together  26646.0        1         0   \n",
      "4  5324        1981         PhD        Married  58293.0        1         0   \n",
      "\n",
      "  Dt_Customer  Recency  MntWines  ...  NumWebVisitsMonth  AcceptedCmp3  \\\n",
      "0  2012-09-04       58       635  ...                  7             0   \n",
      "1  2014-03-08       38        11  ...                  5             0   \n",
      "2  2013-08-21       26       426  ...                  4             0   \n",
      "3  2014-02-10       26        11  ...                  6             0   \n",
      "4  2014-01-19       94       173  ...                  5             0   \n",
      "\n",
      "   AcceptedCmp4  AcceptedCmp5  AcceptedCmp1  AcceptedCmp2  Complain  \\\n",
      "0             0             0             0             0         0   \n",
      "1             0             0             0             0         0   \n",
      "2             0             0             0             0         0   \n",
      "3             0             0             0             0         0   \n",
      "4             0             0             0             0         0   \n",
      "\n",
      "   Z_CostContact  Z_Revenue  Response  \n",
      "0              3         11         1  \n",
      "1              3         11         0  \n",
      "2              3         11         0  \n",
      "3              3         11         0  \n",
      "4              3         11         0  \n",
      "\n",
      "[5 rows x 29 columns]\n"
     ]
    }
   ],
   "source": [
    "df = pd.read_excel(r\"C:\\Users\\USER\\marketing_predictions\\marketing_campaign.xlsx\")\n",
    "print(df.head())"
   ]
  },
  {
   "cell_type": "code",
   "execution_count": 14,
   "id": "73923bf3-db16-4075-a754-0ba2a3028e73",
   "metadata": {},
   "outputs": [
    {
     "name": "stdout",
     "output_type": "stream",
     "text": [
      "Missing values in each column:\n",
      "ID                      0\n",
      "Year_Birth              0\n",
      "Education               0\n",
      "Marital_Status          0\n",
      "Income                 24\n",
      "Kidhome                 0\n",
      "Teenhome                0\n",
      "Dt_Customer             0\n",
      "Recency                 0\n",
      "MntWines                0\n",
      "MntFruits               0\n",
      "MntMeatProducts         0\n",
      "MntFishProducts         0\n",
      "MntSweetProducts        0\n",
      "MntGoldProds            0\n",
      "NumDealsPurchases       0\n",
      "NumWebPurchases         0\n",
      "NumCatalogPurchases     0\n",
      "NumStorePurchases       0\n",
      "NumWebVisitsMonth       0\n",
      "AcceptedCmp3            0\n",
      "AcceptedCmp4            0\n",
      "AcceptedCmp5            0\n",
      "AcceptedCmp1            0\n",
      "AcceptedCmp2            0\n",
      "Complain                0\n",
      "Z_CostContact           0\n",
      "Z_Revenue               0\n",
      "Response                0\n",
      "dtype: int64\n"
     ]
    }
   ],
   "source": [
    "print(\"Missing values in each column:\")\n",
    "print(df.isnull().sum())\n"
   ]
  },
  {
   "cell_type": "code",
   "execution_count": 15,
   "id": "ac16ec5b-41e5-421d-bcf6-9273587affe2",
   "metadata": {},
   "outputs": [
    {
     "name": "stdout",
     "output_type": "stream",
     "text": [
      "Number of duplicates before removal: 0\n",
      "Number of duplicates after removal: 0\n"
     ]
    }
   ],
   "source": [
    "df.fillna({'mntwines': 0, 'mntfruits': 0, 'mntmeatproducts': 0, \n",
    "           'mntfishproducts': 0, 'mntsweetproducts': 0, 'mntgoldprods': 0}, inplace=True)\n",
    "\n",
    "print(f\"Number of duplicates before removal: {df.duplicated().sum()}\")\n",
    "df.drop_duplicates(inplace=True)\n",
    "print(f\"Number of duplicates after removal: {df.duplicated().sum()}\")\n"
   ]
  },
  {
   "cell_type": "code",
   "execution_count": 16,
   "id": "b1913caa-5619-456f-b790-568b99bdf787",
   "metadata": {},
   "outputs": [],
   "source": [
    "df.columns = df.columns.str.strip().str.lower().str.replace(' ', '_')\n",
    "\n",
    "current_year = datetime.now().year  \n",
    "df['age'] = current_year - df['year_birth']\n",
    "df['income_category'] = pd.cut(df['income'], bins=[0, 20000, 40000, 60000, 80000, 100000, float('inf')],\n",
    "                               labels=['Low', 'Medium-Low', 'Medium', 'Medium-High', 'High', 'Very High'])"
   ]
  },
  {
   "cell_type": "code",
   "execution_count": 17,
   "id": "ebdeda80-d414-4665-9225-8ec18fbc421e",
   "metadata": {},
   "outputs": [
    {
     "name": "stdout",
     "output_type": "stream",
     "text": [
      "Correlation Matrix:\n",
      "                           id  year_birth    income   kidhome  teenhome  \\\n",
      "id                   1.000000    0.000028  0.013095  0.002406 -0.002580   \n",
      "year_birth           0.000028    1.000000 -0.161791  0.230176 -0.352111   \n",
      "income               0.013095   -0.161791  1.000000 -0.428669  0.019133   \n",
      "kidhome              0.002406    0.230176 -0.428669  1.000000 -0.036133   \n",
      "teenhome            -0.002580   -0.352111  0.019133 -0.036133  1.000000   \n",
      "recency             -0.046524   -0.019871 -0.003970  0.008827  0.016198   \n",
      "mntwines            -0.022878   -0.157773  0.578650 -0.496297  0.004846   \n",
      "mntfruits            0.004600   -0.017917  0.430842 -0.372581 -0.176764   \n",
      "mntmeatproducts     -0.004437   -0.030872  0.584633 -0.437129 -0.261160   \n",
      "mntfishproducts     -0.024475   -0.041625  0.438871 -0.387644 -0.204187   \n",
      "mntsweetproducts    -0.007642   -0.018133  0.440744 -0.370673 -0.162475   \n",
      "mntgoldprods        -0.013438   -0.061818  0.325916 -0.349595 -0.021725   \n",
      "numdealspurchases   -0.037166   -0.060846 -0.083101  0.221798  0.387741   \n",
      "numwebpurchases     -0.018924   -0.145040  0.387878 -0.361647  0.155500   \n",
      "numcatalogpurchases -0.003440   -0.121275  0.589162 -0.502237 -0.110769   \n",
      "numstorepurchases   -0.014927   -0.128272  0.529362 -0.499683  0.050695   \n",
      "numwebvisitsmonth   -0.007446    0.121139 -0.553088  0.447846  0.134884   \n",
      "acceptedcmp3        -0.036040    0.061774 -0.016174  0.014674 -0.042677   \n",
      "acceptedcmp4        -0.025387   -0.060510  0.184400 -0.161600  0.038886   \n",
      "acceptedcmp5        -0.007517    0.007123  0.335943 -0.205634 -0.191050   \n",
      "acceptedcmp1        -0.021614   -0.005930  0.276820 -0.172339 -0.140090   \n",
      "acceptedcmp2        -0.015061   -0.006539  0.087545 -0.081716 -0.015605   \n",
      "complain             0.033883   -0.030128 -0.027225  0.040207  0.003138   \n",
      "z_costcontact             NaN         NaN       NaN       NaN       NaN   \n",
      "z_revenue                 NaN         NaN       NaN       NaN       NaN   \n",
      "response            -0.021968    0.021325  0.133047 -0.080008 -0.154446   \n",
      "age                 -0.000028   -1.000000  0.161791 -0.230176  0.352111   \n",
      "\n",
      "                      recency  mntwines  mntfruits  mntmeatproducts  \\\n",
      "id                  -0.046524 -0.022878   0.004600        -0.004437   \n",
      "year_birth          -0.019871 -0.157773  -0.017917        -0.030872   \n",
      "income              -0.003970  0.578650   0.430842         0.584633   \n",
      "kidhome              0.008827 -0.496297  -0.372581        -0.437129   \n",
      "teenhome             0.016198  0.004846  -0.176764        -0.261160   \n",
      "recency              1.000000  0.016064  -0.004306         0.023056   \n",
      "mntwines             0.016064  1.000000   0.389637         0.562667   \n",
      "mntfruits           -0.004306  0.389637   1.000000         0.543105   \n",
      "mntmeatproducts      0.023056  0.562667   0.543105         1.000000   \n",
      "mntfishproducts      0.001079  0.399753   0.594804         0.568402   \n",
      "mntsweetproducts     0.022670  0.386581   0.567164         0.523846   \n",
      "mntgoldprods         0.016693  0.387516   0.392995         0.350609   \n",
      "numdealspurchases   -0.001098  0.010940  -0.132114        -0.122415   \n",
      "numwebpurchases     -0.010726  0.542265   0.296735         0.293761   \n",
      "numcatalogpurchases  0.025110  0.635226   0.487917         0.723827   \n",
      "numstorepurchases    0.000799  0.642100   0.461758         0.479659   \n",
      "numwebvisitsmonth   -0.021445 -0.320653  -0.418383        -0.539470   \n",
      "acceptedcmp3        -0.032991  0.062202   0.014727         0.018272   \n",
      "acceptedcmp4         0.018826  0.373286   0.010152         0.102912   \n",
      "acceptedcmp5         0.000129  0.472613   0.215833         0.373769   \n",
      "acceptedcmp1        -0.019283  0.354133   0.194748         0.309761   \n",
      "acceptedcmp2        -0.001781  0.205907  -0.009773         0.043033   \n",
      "complain             0.013231 -0.039007  -0.005166        -0.023483   \n",
      "z_costcontact             NaN       NaN        NaN              NaN   \n",
      "z_revenue                 NaN       NaN        NaN              NaN   \n",
      "response            -0.198437  0.247254   0.125289         0.236335   \n",
      "age                  0.019871  0.157773   0.017917         0.030872   \n",
      "\n",
      "                     mntfishproducts  ...  acceptedcmp3  acceptedcmp4  \\\n",
      "id                         -0.024475  ...     -0.036040     -0.025387   \n",
      "year_birth                 -0.041625  ...      0.061774     -0.060510   \n",
      "income                      0.438871  ...     -0.016174      0.184400   \n",
      "kidhome                    -0.387644  ...      0.014674     -0.161600   \n",
      "teenhome                   -0.204187  ...     -0.042677      0.038886   \n",
      "recency                     0.001079  ...     -0.032991      0.018826   \n",
      "mntwines                    0.399753  ...      0.062202      0.373286   \n",
      "mntfruits                   0.594804  ...      0.014727      0.010152   \n",
      "mntmeatproducts             0.568402  ...      0.018272      0.102912   \n",
      "mntfishproducts             1.000000  ...      0.000357      0.016843   \n",
      "mntsweetproducts            0.579870  ...      0.001530      0.028641   \n",
      "mntgoldprods                0.422875  ...      0.123091      0.022268   \n",
      "numdealspurchases          -0.139361  ...     -0.023109      0.015594   \n",
      "numwebpurchases             0.293681  ...      0.042176      0.155903   \n",
      "numcatalogpurchases         0.534478  ...      0.104730      0.139247   \n",
      "numstorepurchases           0.459855  ...     -0.067577      0.179379   \n",
      "numwebvisitsmonth          -0.446003  ...      0.061211     -0.032126   \n",
      "acceptedcmp3                0.000357  ...      1.000000     -0.079512   \n",
      "acceptedcmp4                0.016843  ...     -0.079512      1.000000   \n",
      "acceptedcmp5                0.199578  ...      0.080316      0.306526   \n",
      "acceptedcmp1                0.260762  ...      0.094751      0.251300   \n",
      "acceptedcmp2                0.002577  ...      0.072020      0.292210   \n",
      "complain                   -0.020953  ...      0.008415     -0.027611   \n",
      "z_costcontact                    NaN  ...           NaN           NaN   \n",
      "z_revenue                        NaN  ...           NaN           NaN   \n",
      "response                    0.111331  ...      0.254258      0.177019   \n",
      "age                         0.041625  ...     -0.061774      0.060510   \n",
      "\n",
      "                     acceptedcmp5  acceptedcmp1  acceptedcmp2  complain  \\\n",
      "id                      -0.007517     -0.021614     -0.015061  0.033883   \n",
      "year_birth               0.007123     -0.005930     -0.006539 -0.030128   \n",
      "income                   0.335943      0.276820      0.087545 -0.027225   \n",
      "kidhome                 -0.205634     -0.172339     -0.081716  0.040207   \n",
      "teenhome                -0.191050     -0.140090     -0.015605  0.003138   \n",
      "recency                  0.000129     -0.019283     -0.001781  0.013231   \n",
      "mntwines                 0.472613      0.354133      0.205907 -0.039007   \n",
      "mntfruits                0.215833      0.194748     -0.009773 -0.005166   \n",
      "mntmeatproducts          0.373769      0.309761      0.043033 -0.023483   \n",
      "mntfishproducts          0.199578      0.260762      0.002577 -0.020953   \n",
      "mntsweetproducts         0.259590      0.241818      0.009985 -0.022485   \n",
      "mntgoldprods             0.181021      0.166396      0.049990 -0.030861   \n",
      "numdealspurchases       -0.183248     -0.123244     -0.037695  0.000420   \n",
      "numwebpurchases          0.138684      0.155143      0.034188 -0.016310   \n",
      "numcatalogpurchases      0.322321      0.308097      0.099852 -0.020453   \n",
      "numstorepurchases        0.214790      0.183249      0.085189 -0.016524   \n",
      "numwebvisitsmonth       -0.278113     -0.192502     -0.007196  0.019769   \n",
      "acceptedcmp3             0.080316      0.094751      0.072020  0.008415   \n",
      "acceptedcmp4             0.306526      0.251300      0.292210 -0.027611   \n",
      "acceptedcmp5             1.000000      0.403078      0.221533 -0.009419   \n",
      "acceptedcmp1             0.403078      1.000000      0.175315 -0.025499   \n",
      "acceptedcmp2             0.221533      0.175315      1.000000 -0.011334   \n",
      "complain                -0.009419     -0.025499     -0.011334  1.000000   \n",
      "z_costcontact                 NaN           NaN           NaN       NaN   \n",
      "z_revenue                     NaN           NaN           NaN       NaN   \n",
      "response                 0.326634      0.293982      0.169293 -0.001707   \n",
      "age                     -0.007123      0.005930      0.006539  0.030128   \n",
      "\n",
      "                     z_costcontact  z_revenue  response       age  \n",
      "id                             NaN        NaN -0.021968 -0.000028  \n",
      "year_birth                     NaN        NaN  0.021325 -1.000000  \n",
      "income                         NaN        NaN  0.133047  0.161791  \n",
      "kidhome                        NaN        NaN -0.080008 -0.230176  \n",
      "teenhome                       NaN        NaN -0.154446  0.352111  \n",
      "recency                        NaN        NaN -0.198437  0.019871  \n",
      "mntwines                       NaN        NaN  0.247254  0.157773  \n",
      "mntfruits                      NaN        NaN  0.125289  0.017917  \n",
      "mntmeatproducts                NaN        NaN  0.236335  0.030872  \n",
      "mntfishproducts                NaN        NaN  0.111331  0.041625  \n",
      "mntsweetproducts               NaN        NaN  0.117372  0.018133  \n",
      "mntgoldprods                   NaN        NaN  0.139850  0.061818  \n",
      "numdealspurchases              NaN        NaN  0.002238  0.060846  \n",
      "numwebpurchases                NaN        NaN  0.148730  0.145040  \n",
      "numcatalogpurchases            NaN        NaN  0.220810  0.121275  \n",
      "numstorepurchases              NaN        NaN  0.039363  0.128272  \n",
      "numwebvisitsmonth              NaN        NaN -0.003987 -0.121139  \n",
      "acceptedcmp3                   NaN        NaN  0.254258 -0.061774  \n",
      "acceptedcmp4                   NaN        NaN  0.177019  0.060510  \n",
      "acceptedcmp5                   NaN        NaN  0.326634 -0.007123  \n",
      "acceptedcmp1                   NaN        NaN  0.293982  0.005930  \n",
      "acceptedcmp2                   NaN        NaN  0.169293  0.006539  \n",
      "complain                       NaN        NaN -0.001707  0.030128  \n",
      "z_costcontact                  NaN        NaN       NaN       NaN  \n",
      "z_revenue                      NaN        NaN       NaN       NaN  \n",
      "response                       NaN        NaN  1.000000 -0.021325  \n",
      "age                            NaN        NaN -0.021325  1.000000  \n",
      "\n",
      "[27 rows x 27 columns]\n"
     ]
    }
   ],
   "source": [
    "numeric_df = df.select_dtypes(include=['float64', 'int64'])\n",
    "correlation_matrix = numeric_df.corr()\n",
    "print(\"Correlation Matrix:\")\n",
    "print(correlation_matrix)\n"
   ]
  },
  {
   "cell_type": "code",
   "execution_count": 18,
   "id": "60a0ca54-4237-4ebc-a68e-7c5db2201fa8",
   "metadata": {},
   "outputs": [],
   "source": [
    "spending_columns = ['mntwines', 'mntfruits', 'mntmeatproducts', 'mntfishproducts', 'mntsweetproducts', 'mntgoldprods']\n",
    "\n",
    "df[spending_columns] = df[spending_columns].apply(pd.to_numeric, errors='coerce')\n",
    "\n",
    "categorical_columns = df.select_dtypes(include=['category']).columns\n",
    "for col in categorical_columns:\n",
    "    df[col] = df[col].astype(str) \n",
    "\n",
    "df.fillna(0, inplace=True)\n",
    "\n"
   ]
  },
  {
   "cell_type": "code",
   "execution_count": 19,
   "id": "4c0a4a47-eea8-4b56-a304-79188eddac5d",
   "metadata": {},
   "outputs": [
    {
     "name": "stdout",
     "output_type": "stream",
     "text": [
      "\n",
      "Average Spending by Education Level:\n",
      "              mntwines  mntfruits  mntmeatproducts  mntfishproducts  \\\n",
      "education                                                             \n",
      "2n Cycle    198.182266  28.955665       141.256158        47.482759   \n",
      "Basic         7.240741  11.111111        11.444444        17.055556   \n",
      "Graduation  284.268855  30.774623       179.488909        43.149956   \n",
      "Master      333.075676  21.654054       163.378378        32.100000   \n",
      "PhD         404.495885  20.049383       168.602881        26.728395   \n",
      "\n",
      "            mntsweetproducts  mntgoldprods  \n",
      "education                                   \n",
      "2n Cycle           34.251232     46.399015  \n",
      "Basic              12.111111     22.833333  \n",
      "Graduation         31.367347     50.849157  \n",
      "Master             21.175676     40.397297  \n",
      "PhD                20.222222     32.310700  \n",
      "\n",
      "Acceptance Rates for Campaigns:\n",
      "acceptedcmp1    0.064286\n",
      "acceptedcmp2    0.013393\n",
      "acceptedcmp3    0.072768\n",
      "acceptedcmp4    0.074554\n",
      "acceptedcmp5    0.072768\n",
      "dtype: float64\n"
     ]
    }
   ],
   "source": [
    "average_spending_by_education = df.groupby('education')[spending_columns].mean()\n",
    "print(\"\\nAverage Spending by Education Level:\")\n",
    "print(average_spending_by_education)\n",
    "\n",
    "accepted_campaigns = df[['acceptedcmp1', 'acceptedcmp2', 'acceptedcmp3', 'acceptedcmp4', 'acceptedcmp5']]\n",
    "acceptance_rates = accepted_campaigns.mean()\n",
    "print(\"\\nAcceptance Rates for Campaigns:\")\n",
    "print(acceptance_rates)\n"
   ]
  },
  {
   "cell_type": "code",
   "execution_count": 20,
   "id": "36b0053b-056e-4401-81f5-1d68a093b1ce",
   "metadata": {},
   "outputs": [
    {
     "name": "stdout",
     "output_type": "stream",
     "text": [
      "\n",
      "ROI Calculation:\n",
      "         id       roi\n",
      "0      5524  2.666667\n",
      "1      2174  2.666667\n",
      "2      4141  2.666667\n",
      "3      6182  2.666667\n",
      "4      5324  2.666667\n",
      "...     ...       ...\n",
      "2235  10870  2.666667\n",
      "2236   4001  2.666667\n",
      "2237   7270  2.666667\n",
      "2238   8235  2.666667\n",
      "2239   9405  2.666667\n",
      "\n",
      "[2240 rows x 2 columns]\n",
      "\n",
      "Cost per Acquisition Calculation:\n",
      "         id       cpa\n",
      "0      5524  1.000000\n",
      "1      2174  1.500000\n",
      "2      4141  3.000000\n",
      "3      6182  1.500000\n",
      "4      5324  0.600000\n",
      "...     ...       ...\n",
      "2235  10870  1.500000\n",
      "2236   4001  0.428571\n",
      "2237   7270  3.000000\n",
      "2238   8235  1.500000\n",
      "2239   9405  1.000000\n",
      "\n",
      "[2240 rows x 2 columns]\n"
     ]
    }
   ],
   "source": [
    "df['roi'] = (df['z_revenue'] - df['z_costcontact']) / df['z_costcontact']\n",
    "print(\"\\nROI Calculation:\")\n",
    "print(df[['id', 'roi']])\n",
    "\n",
    "df['cpa'] = df['z_costcontact'] / df['numdealspurchases']\n",
    "print(\"\\nCost per Acquisition Calculation:\")\n",
    "print(df[['id', 'cpa']])\n"
   ]
  },
  {
   "cell_type": "code",
   "execution_count": 21,
   "id": "edc08e65-7878-49ae-beaa-2ecad04c50cf",
   "metadata": {},
   "outputs": [
    {
     "name": "stdout",
     "output_type": "stream",
     "text": [
      "Processed data saved to 'processed_campaign_data.csv'\n"
     ]
    }
   ],
   "source": [
    "df.to_csv('processed_campaign_data.csv', index=False)\n",
    "print(\"Processed data saved to 'processed_campaign_data.csv'\")"
   ]
  },
  {
   "cell_type": "code",
   "execution_count": null,
   "id": "ecbd5e96-cae6-4680-b9cd-0c4c97b220e8",
   "metadata": {},
   "outputs": [],
   "source": []
  },
  {
   "cell_type": "code",
   "execution_count": null,
   "id": "6cb9f5a1-b706-497e-ad82-5841850ae699",
   "metadata": {},
   "outputs": [],
   "source": []
  }
 ],
 "metadata": {
  "kernelspec": {
   "display_name": "Python 3 (ipykernel)",
   "language": "python",
   "name": "python3"
  },
  "language_info": {
   "codemirror_mode": {
    "name": "ipython",
    "version": 3
   },
   "file_extension": ".py",
   "mimetype": "text/x-python",
   "name": "python",
   "nbconvert_exporter": "python",
   "pygments_lexer": "ipython3",
   "version": "3.12.4"
  }
 },
 "nbformat": 4,
 "nbformat_minor": 5
}
